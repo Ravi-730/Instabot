{
 "cells": [
  {
   "cell_type": "markdown",
   "metadata": {},
   "source": [
    "## Importing all the necessary statements"
   ]
  },
  {
   "cell_type": "code",
   "execution_count": 22,
   "metadata": {},
   "outputs": [],
   "source": [
    "# all the importing statements\n",
    "from selenium import webdriver\n",
    "from selenium.webdriver.support.ui import WebDriverWait\n",
    "from selenium.webdriver.support import expected_conditions as EC\n",
    "from selenium.webdriver.common.by import By\n",
    "from selenium.common.exceptions import NoSuchElementException\n",
    "import time\n",
    "from selenium.common.exceptions import StaleElementReferenceException"
   ]
  },
  {
   "cell_type": "markdown",
   "metadata": {},
   "source": [
    "## Starting the chrome webdriver"
   ]
  },
  {
   "cell_type": "code",
   "execution_count": 23,
   "metadata": {},
   "outputs": [
    {
     "name": "stderr",
     "output_type": "stream",
     "text": [
      "<ipython-input-23-052c40e159f7>:1: DeprecationWarning: executable_path has been deprecated, please pass in a Service object\n",
      "  driver = webdriver.Firefox(executable_path = r'D:\\DataScience\\Selenium\\geckodriver.exe')\n"
     ]
    }
   ],
   "source": [
    "#setting the location where the firefox driver is located\n",
    "driver = webdriver.Firefox(executable_path = r'D:\\DataScience\\Selenium\\geckodriver.exe')     \n"
   ]
  },
  {
   "cell_type": "markdown",
   "metadata": {},
   "source": [
    "## Visiting Instagram"
   ]
  },
  {
   "cell_type": "code",
   "execution_count": 24,
   "metadata": {},
   "outputs": [],
   "source": [
    "# visiting instagram url\n",
    "driver.get('https://www.instagram.com/')\n",
    "driver.maximize_window()"
   ]
  },
  {
   "cell_type": "markdown",
   "metadata": {},
   "source": [
    "## Setting sample username and password for submission"
   ]
  },
  {
   "cell_type": "code",
   "execution_count": 25,
   "metadata": {},
   "outputs": [],
   "source": [
    "sample_username = 'Sample Username'\n",
    "sample_password = 'Sample Password'\n",
    "# change the usename and password to appropriate ones"
   ]
  },
  {
   "cell_type": "markdown",
   "metadata": {},
   "source": [
    "## Login on instagram login portal"
   ]
  },
  {
   "cell_type": "code",
   "execution_count": 26,
   "metadata": {},
   "outputs": [
    {
     "name": "stderr",
     "output_type": "stream",
     "text": [
      "<ipython-input-26-b2780a1dd88d>:3: DeprecationWarning: find_element_by_* commands are deprecated. Please use find_element() instead\n",
      "  password = driver.find_element_by_name('password')\n"
     ]
    }
   ],
   "source": [
    "wait = WebDriverWait(driver, 10)\n",
    "username = wait.until(EC.presence_of_element_located((By.NAME, 'username')))\n",
    "password = driver.find_element_by_name('password')\n",
    "username.send_keys(sample_username)\n",
    "password.send_keys(sample_password)\n",
    "username.submit()\n",
    "time.sleep(3)"
   ]
  },
  {
   "cell_type": "markdown",
   "metadata": {},
   "source": [
    "## Not saving the login info"
   ]
  },
  {
   "cell_type": "code",
   "execution_count": 27,
   "metadata": {},
   "outputs": [
    {
     "name": "stderr",
     "output_type": "stream",
     "text": [
      "<ipython-input-27-83334bdffa59>:2: DeprecationWarning: find_element_by_* commands are deprecated. Please use find_element() instead\n",
      "  not_now_btn = driver.find_element_by_xpath('//div/button[@class=\"sqdOP yWX7d    y3zKF     \"]')\n"
     ]
    }
   ],
   "source": [
    "driver.implicitly_wait(5)\n",
    "not_now_btn = driver.find_element_by_xpath('//div/button[@class=\"sqdOP yWX7d y3zKF \"]')\n",
    "not_now_btn.click()"
   ]
  },
  {
   "cell_type": "markdown",
   "metadata": {},
   "source": [
    "## TurnOff the Notifications"
   ]
  },
  {
   "cell_type": "code",
   "execution_count": 28,
   "metadata": {},
   "outputs": [
    {
     "name": "stderr",
     "output_type": "stream",
     "text": [
      "<ipython-input-28-98a6cdd341c7>:2: DeprecationWarning: find_element_by_* commands are deprecated. Please use find_element() instead\n",
      "  not_now_notifications = driver.find_element_by_xpath('//div/button[@class=\"aOOlW   HoLwm \"]')\n"
     ]
    }
   ],
   "source": [
    "driver.implicitly_wait(3)\n",
    "not_now_notifications = driver.find_element_by_xpath('//div/button[@class=\"aOOlW   HoLwm \"]')\n",
    "not_now_notifications.click()"
   ]
  },
  {
   "cell_type": "markdown",
   "metadata": {},
   "source": [
    "## Locating the search bar and entering the keyword - \"FOOD\""
   ]
  },
  {
   "cell_type": "code",
   "execution_count": 43,
   "metadata": {},
   "outputs": [
    {
     "name": "stderr",
     "output_type": "stream",
     "text": [
      "<ipython-input-43-f5929b5f5a01>:1: DeprecationWarning: find_element_by_* commands are deprecated. Please use find_element() instead\n",
      "  search_bar = driver.find_element_by_class_name('XTCLo')\n"
     ]
    }
   ],
   "source": [
    "search_bar = driver.find_element_by_class_name('XTCLo')\n",
    "keyword = 'food'\n",
    "search_bar.send_keys(keyword)"
   ]
  },
  {
   "cell_type": "markdown",
   "metadata": {},
   "source": [
    "## Printing all the insta handles related to Food "
   ]
  },
  {
   "cell_type": "code",
   "execution_count": 44,
   "metadata": {},
   "outputs": [
    {
     "name": "stderr",
     "output_type": "stream",
     "text": [
      "<ipython-input-44-c91253223f0f>:1: DeprecationWarning: find_elements_by_* commands are deprecated. Please use find_elements() instead\n",
      "  list = driver.find_elements_by_xpath('//div[@class=\"_7UhW9   xLCgt       qyrsm KV-D4          uL8Hv         \"]')\n"
     ]
    },
    {
     "name": "stdout",
     "output_type": "stream",
     "text": [
      "karnatakafoodadda\n",
      "foodie_incarnate\n",
      "bangalore_food_girl\n",
      "bangalorefoodiee\n",
      "foodzeee\n",
      "foodiesince93\n",
      "food\n",
      "street_of_bangalore\n",
      "foodiesfeature\n",
      "foody.monk\n",
      "food_and_bengaluru\n",
      "foodporn\n",
      "foodie.kunal.in\n",
      "food_lover.of.21st.century\n",
      "foodtalesbysonali\n",
      "yourfoodlab\n",
      "foodloversindia\n",
      "mayi_asmr\n",
      "foodbrainstrome\n",
      "eita_food_truck\n",
      "thisisdelhi\n",
      "food_bengaluru\n",
      "foodieworldkw\n",
      "solfoodca\n",
      "food_on_my_wayy\n",
      "fbablore\n",
      "southindianfoods\n",
      "food_in_bangalore\n",
      "cell_food13\n",
      "Food Station\n",
      "thebangalorefoodblog\n",
      "veganfoodspace\n",
      "food_n_lifestyle_\n",
      "mealplans\n",
      "authentic_food__value\n",
      "yummy_n_healthy_food_recipe\n",
      "foo_d_baby\n",
      "foodie_mglre\n",
      "foodhubbengaluru\n",
      "banglore_foods\n",
      "foodism.iran\n",
      "Food Square\n",
      "karnatakafoodbeats\n",
      "Food Basket\n",
      "foodibabaamol\n",
      "food_travel_priya\n",
      "aestheticsandeats\n",
      "foodadda_bangalore\n",
      "_foody_meh\n",
      "foodiefirewall\n",
      "foodspot95\n"
     ]
    }
   ],
   "source": [
    "list = driver.find_elements_by_xpath('//div[@class=\"_7UhW9 xLCgt qyrsm KV-D4  uL8Hv\"]')\n",
    "for i in list:\n",
    "    s = i.text\n",
    "    if s[0] == '#':\n",
    "#         omiting the hashtags\n",
    "        continue\n",
    "    print(i.text)"
   ]
  },
  {
   "cell_type": "markdown",
   "metadata": {},
   "source": [
    "## Clearing the search bar for next search"
   ]
  },
  {
   "cell_type": "code",
   "execution_count": 45,
   "metadata": {},
   "outputs": [],
   "source": [
    "search_bar.clear()"
   ]
  },
  {
   "cell_type": "markdown",
   "metadata": {},
   "source": [
    "## Searching the next word \"so delhi\""
   ]
  },
  {
   "cell_type": "code",
   "execution_count": 46,
   "metadata": {},
   "outputs": [],
   "source": [
    "keyword = 'so delhi'\n",
    "search_bar.send_keys(keyword)"
   ]
  },
  {
   "cell_type": "code",
   "execution_count": 47,
   "metadata": {},
   "outputs": [
    {
     "name": "stderr",
     "output_type": "stream",
     "text": [
      "<ipython-input-47-c6b0bb62375b>:1: DeprecationWarning: find_element_by_* commands are deprecated. Please use find_element() instead\n",
      "  sodelhi = driver.find_element_by_class_name('-qQT3')\n",
      "<ipython-input-47-c6b0bb62375b>:3: DeprecationWarning: find_element_by_* commands are deprecated. Please use find_element() instead\n",
      "  driver.find_element_by_class_name('-qQT3').click()\n"
     ]
    }
   ],
   "source": [
    "sodelhi = driver.find_element_by_class_name('-qQT3')\n",
    "time.sleep(1)\n",
    "driver.find_element_by_class_name('-qQT3').click()"
   ]
  },
  {
   "cell_type": "markdown",
   "metadata": {},
   "source": [
    "## Locating follow button and following the page"
   ]
  },
  {
   "cell_type": "code",
   "execution_count": 48,
   "metadata": {},
   "outputs": [],
   "source": [
    "wait = WebDriverWait(driver, 20)\n",
    "sodelhi_follow = wait.until(EC.presence_of_element_located((By.CLASS_NAME, '_5f5mN')))\n",
    "sodelhi_follow.click()\n",
    "time.sleep(2)"
   ]
  },
  {
   "cell_type": "markdown",
   "metadata": {},
   "source": [
    "## Clicking Unfollow Button"
   ]
  },
  {
   "cell_type": "code",
   "execution_count": 49,
   "metadata": {},
   "outputs": [
    {
     "name": "stderr",
     "output_type": "stream",
     "text": [
      "<ipython-input-49-39f59ce30996>:1: DeprecationWarning: find_element_by_* commands are deprecated. Please use find_element() instead\n",
      "  sodelhi_unfollow = driver.find_element_by_class_name('_5f5mN')\n"
     ]
    }
   ],
   "source": [
    "sodelhi_unfollow = driver.find_element_by_class_name('_5f5mN')\n",
    "time.sleep(2)\n",
    "sodelhi_unfollow.click()\n",
    "time.sleep(1)"
   ]
  },
  {
   "cell_type": "markdown",
   "metadata": {},
   "source": [
    "## Confirmation for unfollow"
   ]
  },
  {
   "cell_type": "code",
   "execution_count": 50,
   "metadata": {},
   "outputs": [],
   "source": [
    "wait = WebDriverWait(driver, 10)\n",
    "unfollow_confirm = wait.until(EC.presence_of_element_located((By.XPATH, '//button[@class=\"aOOlW -Cab_   \"]')))\n",
    "time.sleep(2)\n",
    "unfollow_confirm.click()"
   ]
  },
  {
   "cell_type": "markdown",
   "metadata": {},
   "source": [
    "## Searching profile of \"dilsefoodie\""
   ]
  },
  {
   "cell_type": "code",
   "execution_count": 53,
   "metadata": {},
   "outputs": [
    {
     "name": "stderr",
     "output_type": "stream",
     "text": [
      "<ipython-input-53-4e8fa31ad178>:1: DeprecationWarning: find_element_by_* commands are deprecated. Please use find_element() instead\n",
      "  search_bar = driver.find_element_by_class_name('XTCLo')\n"
     ]
    }
   ],
   "source": [
    "search_bar = driver.find_element_by_class_name('XTCLo')\n",
    "keyword='dilsefoodie'\n",
    "# search_bar = wait.until(EC.element_to_be_clickable((By.XPATH, '//div/input[@class=\"XTCLo x3qfX \"]')))\n",
    "\n",
    "search_bar.send_keys(keyword)"
   ]
  },
  {
   "cell_type": "code",
   "execution_count": 54,
   "metadata": {},
   "outputs": [
    {
     "name": "stderr",
     "output_type": "stream",
     "text": [
      "<ipython-input-54-bab55f79a710>:1: DeprecationWarning: find_element_by_* commands are deprecated. Please use find_element() instead\n",
      "  dilsefoodie = driver.find_element_by_class_name('-qQT3')\n"
     ]
    }
   ],
   "source": [
    "dilsefoodie = driver.find_element_by_class_name('-qQT3')"
   ]
  },
  {
   "cell_type": "code",
   "execution_count": 55,
   "metadata": {},
   "outputs": [],
   "source": [
    "dilsefoodie.click()\n",
    "time.sleep(3)"
   ]
  },
  {
   "cell_type": "markdown",
   "metadata": {},
   "source": [
    "## Scrolling the profile to see 30 posts "
   ]
  },
  {
   "cell_type": "code",
   "execution_count": 56,
   "metadata": {},
   "outputs": [],
   "source": [
    "driver.execute_script('window.scrollBy(0, 3000);')\n",
    "time.sleep(2.5)\n",
    "driver.execute_script('window.scrollBy(0, 3000);')\n",
    "time.sleep(2.5)\n",
    "driver.execute_script('window.scrollTo(0, 0);')"
   ]
  },
  {
   "cell_type": "markdown",
   "metadata": {},
   "source": [
    "## Liking latest 30 posts "
   ]
  },
  {
   "cell_type": "code",
   "execution_count": 95,
   "metadata": {},
   "outputs": [],
   "source": [
    "count=0\n",
    "for i in driver.find_elements_by_xpath('//div[@class=\"v1Nh3 kIKUG  _bz0w\"]/a'):\n",
    "    i.click()\n",
    "    \n",
    "    try:\n",
    "        driver.implicitly_wait(5)\n",
    "        like_btn = driver.find_element_by_xpath('//span[@class=\"fr66n\"]//div[@class=\"QBdPU rrUvL\"]')\n",
    "        like_btn.click()\n",
    "    except NoSuchElementException:\n",
    "#         Exception Handling\n",
    "        print('Already Liked!')\n",
    "    time.sleep(2)\n",
    "    close_btn = driver.find_element_by_xpath('//div[@class=\"qF0y9 Igw0E IwRSH eGOV__4EzTm BI4qX qJPeX fm1AK TxciK yiMZG\"]/button[@class=\"wpO6b  \"]')\n",
    "    close_btn.click()\n",
    "    count+=1\n",
    "    if count == 30:\n",
    "        print('All Done!')\n",
    "        break\n",
    "driver.execute_script('window.scrollTo(0,0)')"
   ]
  },
  {
   "cell_type": "markdown",
   "metadata": {},
   "source": [
    "## Unliking the 30 posts"
   ]
  },
  {
   "cell_type": "code",
   "execution_count": 94,
   "metadata": {},
   "outputs": [],
   "source": [
    "count=0\n",
    "for i in driver.find_elements_by_xpath('//div[@class=\"v1Nh3 kIKUG  _bz0w\"]/a'):\n",
    "    i.click()\n",
    "    \n",
    "    try:\n",
    "        driver.implicitly_wait(5)\n",
    "        like_btn = driver.find_element_by_xpath('//span[@class=\"fr66n\"]//div[@class=\"QBdPU \"]')\n",
    "        like_btn.click()\n",
    "    except NoSuchElementException:\n",
    "#         Exception Handling\n",
    "        print('Not Liked!')\n",
    "    time.sleep(2)\n",
    "    close_btn = driver.find_element_by_xpath('//div[@class=\"qF0y9 Igw0E IwRSH eGOV_ _4EzTm BI4qX qJPeX  fm1AK   TxciK yiMZG\"]/button[@class=\"wpO6b  \"]')\n",
    "    close_btn.click()\n",
    "    count+=1\n",
    "    if count == 30:\n",
    "        print('All Done!')\n",
    "        break\n",
    "driver.execute_script('window.scrollTo(0,0)')"
   ]
  },
  {
   "cell_type": "markdown",
   "metadata": {},
   "source": [
    "## Extracting first 500 usernames of \"sodelhi\""
   ]
  },
  {
   "cell_type": "code",
   "execution_count": 60,
   "metadata": {},
   "outputs": [
    {
     "name": "stderr",
     "output_type": "stream",
     "text": [
      "<ipython-input-60-74fedeace77d>:1: DeprecationWarning: find_element_by_* commands are deprecated. Please use find_element() instead\n",
      "  search_bar = driver.find_element_by_class_name('XTCLo')\n"
     ]
    }
   ],
   "source": [
    "search_bar = driver.find_element_by_class_name('XTCLo')\n",
    "keyword='sodelhi'\n",
    "# search_bar = wait.until(EC.element_to_be_clickable((By.XPATH, '//div/input[@class=\"XTCLo x3qfX \"]')))\n",
    "search_bar.send_keys(keyword)\n",
    "foodtalkindia = WebDriverWait(driver, 10).until(EC.presence_of_element_located((By.CLASS_NAME,'-qQT3')))\n",
    "foodtalkindia.click()                                    "
   ]
  },
  {
   "cell_type": "code",
   "execution_count": 61,
   "metadata": {},
   "outputs": [],
   "source": [
    "followers_btn = WebDriverWait(driver, 10).until(EC.presence_of_element_located((By.XPATH,'//a[@class=\"-nal3 \"]')))\n",
    "followers_btn.click()\n",
    "time.sleep(2)"
   ]
  },
  {
   "cell_type": "markdown",
   "metadata": {},
   "source": [
    "## Scrolling the followers to get 500 followers"
   ]
  },
  {
   "cell_type": "code",
   "execution_count": 62,
   "metadata": {},
   "outputs": [
    {
     "name": "stderr",
     "output_type": "stream",
     "text": [
      "<ipython-input-62-ee87d2c9afe9>:1: DeprecationWarning: find_elements_by_* commands are deprecated. Please use find_elements() instead\n",
      "  while len(driver.find_elements_by_xpath('//div[@class=\"PZuss\"]/li//a[@class = \"FPmhX notranslate  _0imsa \"]')) < 520:\n",
      "<ipython-input-62-ee87d2c9afe9>:2: DeprecationWarning: find_elements_by_* commands are deprecated. Please use find_elements() instead\n",
      "  element = driver.find_elements_by_tag_name('li')[-1]\n",
      "<ipython-input-62-ee87d2c9afe9>:4: DeprecationWarning: find_elements_by_* commands are deprecated. Please use find_elements() instead\n",
      "  print(len(driver.find_elements_by_xpath('//div[@class=\"PZuss\"]/li//a[@class = \"FPmhX notranslate  _0imsa \"]')))\n"
     ]
    },
    {
     "name": "stdout",
     "output_type": "stream",
     "text": [
      "12\n",
      "24\n",
      "36\n",
      "48\n",
      "60\n",
      "72\n",
      "84\n",
      "96\n",
      "108\n",
      "120\n",
      "132\n",
      "144\n",
      "156\n",
      "168\n",
      "180\n",
      "192\n",
      "204\n",
      "216\n",
      "228\n",
      "240\n",
      "252\n",
      "264\n",
      "275\n",
      "287\n",
      "299\n",
      "310\n",
      "322\n",
      "334\n",
      "346\n",
      "358\n",
      "370\n",
      "382\n",
      "394\n",
      "406\n",
      "418\n",
      "430\n",
      "442\n",
      "454\n",
      "466\n",
      "478\n",
      "489\n",
      "501\n",
      "513\n",
      "scrolled!!\n"
     ]
    }
   ],
   "source": [
    "while len(driver.find_elements_by_xpath('//div[@class=\"PZuss\"]/li//a[@class = \"FPmhX notranslate  _0imsa \"]')) < 520:\n",
    "    element = driver.find_elements_by_tag_name('li')[-1]\n",
    "    driver.execute_script(\"arguments[0].scrollIntoView();\", element);\n",
    "    print(len(driver.find_elements_by_xpath('//div[@class=\"PZuss\"]/li//a[@class = \"FPmhX notranslate  _0imsa \"]')))\n",
    "    time.sleep(3)\n",
    "print('scrolled!!')"
   ]
  },
  {
   "cell_type": "markdown",
   "metadata": {},
   "source": [
    "## Printing the followers"
   ]
  },
  {
   "cell_type": "code",
   "execution_count": 63,
   "metadata": {},
   "outputs": [
    {
     "name": "stderr",
     "output_type": "stream",
     "text": [
      "<ipython-input-63-d4b8b79c8455>:2: DeprecationWarning: find_elements_by_* commands are deprecated. Please use find_elements() instead\n",
      "  for i in driver.find_elements_by_xpath('//div[@class=\"PZuss\"]/li//a[@class = \"FPmhX notranslate  _0imsa \"]'):\n"
     ]
    },
    {
     "name": "stdout",
     "output_type": "stream",
     "text": [
      "riz_mumin\n",
      "sona3179\n",
      "sharmanittinkumar\n",
      "mr__warsi\n",
      "ch__sahil__001\n",
      "ifeelicxnix\n",
      "mrinaltaluja26\n",
      "ajay535rajput\n",
      "raginisaxena09\n",
      "shivangi00_malik\n",
      "shubham__sr4\n",
      "arzoog.kapoor_777\n",
      "itz_dvaid\n",
      "mepurushottam\n",
      "c.h.a.i.t.a.n.y.a__\n",
      "alka.sharma.100\n",
      "mohsin.11.khan\n",
      "shrutika392\n",
      "youarethesky27\n",
      "ameperdue9\n",
      "harshiiii_s\n",
      "arishanaeem\n",
      "ms.prachi_kakkar\n",
      "c_kakkar\n",
      "absinraw\n",
      "ravi_c137\n",
      "india_eat_maniaa\n",
      "decor.noob\n",
      "foodiesalman_\n",
      "hippieeinheels\n",
      "priyagupta2153\n",
      "supriyakanodia\n",
      "nehabansal191\n",
      "officialgarrychahal\n",
      "___its_priyanshu\n",
      "officialanish905\n",
      "anujarathisinghal\n",
      "chotey_tandav\n",
      "adit_sawant\n",
      "collaborationupdates\n",
      "ankita_luthraa\n",
      "tania__saxena.ts\n",
      "angel_jamson\n",
      "rinkoo456\n",
      "ideep_adhana\n",
      "russianleavestea\n",
      "vinipahuja\n",
      "k.f.knowledge_factory\n",
      "the.deepak__\n",
      "muntazermehdi8194\n",
      "nushk.aa_\n",
      "4ankitchoudhary\n",
      "rav0727\n",
      "_beingarthur\n",
      "maria_sufia\n",
      "the_stylee__\n",
      "sambhav.js\n",
      "maik._.sonal\n",
      "vip_ak11_\n",
      "myself_kalam\n",
      "to.the.stars.and_back_\n",
      "_.__dhruv_.__\n",
      "garimaaakaushik\n",
      "delhimalefemalemodels\n",
      "digitalfusionart\n",
      "rohit_verma_g\n",
      "ashh.9073\n",
      "ockaycool\n",
      "ridhimanagpall\n",
      "ashijain2998\n",
      "r_o_h_i_niiii\n",
      "f.zzama\n",
      "hasanpari5\n",
      "__prabhnoor__\n",
      "shalinisharma5122\n",
      "vaniafreitas13\n",
      "sachikachopra\n",
      "makeupbycharan\n",
      "umairraja5666\n",
      "mrittikamajhi\n",
      "p.goyall\n",
      "vikramsingh0905\n",
      "vans_hika1880\n",
      "shivani_swaroop\n",
      "sogoodmulticuisine\n",
      "uztut9\n",
      "very.nice.people.go\n",
      "_sharma_ji_52\n",
      "___anurag_mittal___\n",
      "cookwithkunati\n",
      "askrao\n",
      "shutterlockphotography_\n",
      "abu_saddam_molla\n",
      "sumat24\n",
      "rudraksh_124\n",
      "dis29ha\n",
      "doodledeepti\n",
      "suhaniirai\n",
      "justaguyfromdelhi\n",
      "viditttjain\n",
      "chandakchandni\n",
      "the_smiling_pearl\n",
      "e.k.a.a.j.a\n",
      "pragati_agrawal20\n",
      "zumitsharma\n",
      "saood_khan_sk\n",
      "ankit_rathore.27\n",
      "nom___ad\n",
      "reddy_krishnakishore\n",
      "aanya.privzz\n",
      "lakhnaviswaad\n",
      "arpitupadhyay01\n",
      "_am_i_bored_\n",
      "reetbyshruti\n",
      "tanimabansal\n",
      "pankhudimakeovers\n",
      "naazsarwat\n",
      "vivek_up_at_noon\n",
      "shivam_tmk1\n",
      "layers_de_patisserie\n",
      "mishtisharma3389\n",
      "payal.vks\n",
      "rohit.khandelwal07\n",
      "ryndljdny\n",
      "ripaligupta\n",
      "_shreya_shaji\n",
      "sethieventanddecor\n",
      "shubhangi3641\n",
      "sourabh_suthar_\n",
      "vivek.rai93\n",
      "travelwanderer_._\n",
      "singhania007\n",
      "subhi_insta\n",
      "hiya_das_571\n",
      "ritusinghi\n",
      "noormaryam22\n",
      "sweet.soda\n",
      "rajkot_food_walk\n",
      "siwach.sonia\n",
      "hemanthg\n",
      "mr_ravi_1143\n",
      "vaibhavo_0\n",
      "jkay.in\n",
      "vidhikhanna16\n",
      "0802snehal0802\n",
      "call_by_market\n",
      "vishakha_bhardwaj25\n",
      "vasundhara_1406\n",
      "vivek_._.__.___\n",
      "mahajan_nikita\n",
      "divyat_\n",
      "kekeozdemir\n",
      "__alexllx\n",
      "d_rtistic_gurl\n",
      "yucel.eroglu.399\n",
      "angie__gonsalez\n",
      "rajputshivisingh\n",
      "abhi_j.33\n",
      "bullet.bold\n",
      "yashashviagrawal\n",
      "hitesh.sri\n",
      "arpanbarman10\n",
      "_yukkuu_\n",
      "__aryika__\n",
      "zaayka_nation\n",
      "___aryan____kp\n",
      "ankita_sharma1195\n",
      "manpuneet_\n",
      "tblife01\n",
      "navya_gupta18\n",
      "cadbury_4848\n",
      "ashima.arora_\n",
      "ritikarana3_10\n",
      "xplorer1010\n",
      "kajalsingh8094\n",
      "ashish.1604\n",
      "gaurav.kandhari.56\n",
      "_sonikaa___\n",
      "shubhi666\n",
      "fuc_kyouall6\n",
      "pehamkhan\n",
      "doodle.hive\n",
      "gift_bazzar\n",
      "sushrutiwrites\n",
      "nesrinhulur\n",
      "provoke_a_reaction\n",
      "prishasheoran\n",
      "rupal_singhal0526\n",
      "__thenishasinghh\n",
      "oven.tikka\n",
      "kkhushiii.pvttt\n",
      "narenderrobin\n",
      "yashjindal80\n",
      "rhea.khan\n",
      "shubhankarmehra\n",
      "__mansiagarwal\n",
      "awaaaaaraaa\n",
      "shubh.ashish99\n",
      "somonewhousetoloveme\n",
      "abharatarora\n",
      "h2t.headtotoe\n",
      "shreyanshs\n",
      "kartikkk_sharma\n",
      "vidhichawla15\n",
      "rishabhh_______\n",
      "shabana_vs\n",
      "karuna9gupta\n",
      "shweta.chadha\n",
      "aatishkaushal8\n",
      "shrinjal_shreya\n",
      "dikshaarora1050\n",
      "swati.fit\n",
      "thisdotutkarsh\n",
      "rudrakshchoudhary_\n",
      "munchiesalert\n",
      "vickymehta1994\n",
      "abhishek_abhay\n",
      "chungwa_gk2\n",
      "dharamprasad11\n",
      "rajputraghav96\n",
      "bachpankapyar_\n",
      "khanayan03176\n",
      "shivapriya_deepak\n",
      "sumeetnayyar\n",
      "jiffy_wandrer\n",
      "storieslastpage\n",
      "theblissfulsoulll\n",
      "nit5609\n",
      "anubhavkashyap1405\n",
      "pgc_gk786\n",
      "_berry20_\n",
      "linda_sot\n",
      "tanya.singh_97\n",
      "_lakshitax\n",
      "komal_nagranii\n",
      "call.boy2005\n",
      "saumyaa.xx\n",
      "kaif_khann11\n",
      "karan_khurana95\n",
      "udeeta_jain\n",
      "_shivani_raii\n",
      "the_queenicorn_\n",
      "chumpaaji\n",
      "21_vaasu\n",
      "neh.adhage\n",
      "curlyjuthika\n",
      "anujbhati22\n",
      "king_huntre90\n",
      "sneha_pratap_singh__cutei\n",
      "medha_raje\n",
      "devanshi.27\n",
      "dheeraj.harjani.5\n",
      "roopesh_ramesh\n",
      "__arcrux__\n",
      "kanishkaburnwal\n",
      "sambher_charvi\n",
      "love.bubbles21\n",
      "chinnambetiprasad\n",
      "artsy_abhi_\n",
      "saumyatheysay\n",
      "ckt.themoderncaveman\n",
      "walia.pvttt\n",
      "guru_love_483\n",
      "delhiian\n",
      "mahmood__gajnabi__07\n",
      "jaxx_921\n",
      "narang.anmol1270\n",
      "dipeshmehar.jpeg\n",
      "car1111149\n",
      "_med_ish__\n",
      "tikkykanitta\n",
      "_deepali7_\n",
      "sandeeposm\n",
      "simran_dhammi\n",
      "reformed_muser\n",
      "algb5815\n",
      "may_uri1996\n",
      "nupurjain.22\n",
      "ar0ra_yukti\n",
      "shrutijhun\n",
      "_.tejoss\n",
      "anmol333\n",
      "_.aryan.sh._\n",
      "charunagpal14\n",
      "_shireenk_\n",
      "uditachugh\n",
      "soniababbarr\n",
      "silver_chucks\n",
      "imrankhan0643\n",
      "indu_uppal10\n",
      "caterpillar081001\n",
      "yatikamehta_\n",
      "__pratibha_gupta\n",
      "akshat7633\n",
      "children_of_the_night00\n",
      "hiteshgupta95\n",
      "toobayusufzai\n",
      "poojasinghhere\n",
      "writikgupta\n",
      "sanjay__khurana\n",
      "chitvannn___\n",
      "asha_ashuuuu\n",
      "ll_apradi_ll\n",
      "vivy2kool\n",
      "theguywhosweatstoshine\n",
      "alokyadav121\n",
      "lokeshgarg220\n",
      "aniket.wankhede7\n",
      "palakgupta2112\n",
      "comvpanzanle\n",
      "tushar204520\n",
      "whodat_._whodat\n",
      "aanya____singh\n",
      "jigneshkaviraj31\n",
      "weed_humorr420\n",
      "ankita_309\n",
      "tanmay_monga\n",
      "teememoriess\n",
      "simping.severus\n",
      "ishika_12.06_\n",
      "gc.pvt_\n",
      "bhawanisingh.bhati.129357\n",
      "worldofwanderlust29\n",
      "clicksbyankush\n",
      "tushaarrana\n",
      "house_of_tadka\n",
      "pankajgoyal007\n",
      "missu0389\n",
      "shreya_tomar\n",
      "mayankagarwal_19\n",
      "photographybysamarth\n",
      "sanchit_chhibba\n",
      "rahulk_0717\n",
      "noshers.cafe\n",
      "tusharsolanki000\n",
      "sakshitaneja01\n",
      "adityashukla.03\n",
      "anabsolutedelight\n",
      "priyai_khanna123\n",
      "rachit5380\n",
      "urghnotagain\n",
      "_sa.m.ia_\n",
      "itzzreal_sanjay\n",
      "ansshhiii\n",
      "batranikhita\n",
      "payal1606k\n",
      "neelam.balwani\n",
      "shikhasingh0303\n",
      "aryan_rai09\n",
      "panda88387\n",
      "vinayakkohli1\n",
      "gayatrimahajan\n",
      "priyanka_valechha\n",
      "akanshgarg04\n",
      "bluesky_bluesky_123\n",
      "imagination_mum\n",
      "_aishwarya.jh\n",
      "danzrvj08\n",
      "sushant_r\n",
      "ayazpqr\n",
      "preeti.oninsta\n",
      "shra1_terdal29\n",
      "anshull.bansal\n",
      "varun_malhotra111\n",
      "the_shaista_idrisi\n",
      "nilimadramaqueen\n",
      "taranum.lone\n",
      "ananyaaxpvvt\n",
      "daily.reel\n",
      "prernabhallamua\n",
      "joliemellonaye\n",
      "author_shatakshi\n",
      "aatika.siddiqui__\n",
      "vasundhrasain\n",
      "isheta.batra\n",
      "____arun_sharma____\n",
      "shefali.mittal6\n",
      "letas_cook\n",
      "shobi____khan_\n",
      "neha.capricorn19\n",
      "janhvi_x\n",
      "sonali_tiwari22\n",
      "nandh82\n",
      "sunnykashyap99992\n",
      "suraj9539\n",
      "simran22300\n",
      "chiranjeebcool1\n",
      "_vipulsachdeva_\n",
      "don_ilano\n",
      "_vansheyy_\n",
      "shilpa5678\n",
      "contrastfx\n",
      "ishajain10\n",
      "sak_shi2974\n",
      "navyakr7\n",
      "tarik.ajmeri.10\n",
      "sidhu_estates\n",
      "dilli.wala_\n",
      "richashukla10\n",
      "akashagrawal108\n",
      "amishabose_\n",
      "vidhii_makkar\n",
      "maa_kamakhya_jyotish_526\n",
      "gifty.uppal\n",
      "surajyadav7172\n",
      "khadija.ali111\n",
      "jarry_joy\n",
      "purneetkaur_\n",
      "shivangi__1305\n",
      "stanzinnlhazes\n",
      "upendram828\n",
      "rohit9__choudhary\n",
      "ybhalgat\n",
      "noobinkle\n",
      "iam_ankurgupta\n",
      "mudabbir_azam\n",
      "pradeep_aggarwal_official\n",
      "vaibhavkalia\n",
      "iam_rahil_07\n",
      "san_tosh7384\n",
      "shubham7463\n",
      "aakriti17_tis\n",
      "joharipriya\n",
      "shwetasingh1350\n",
      "harshagulani\n",
      "beheka_naujawaan\n",
      "mr_jainamdoshi_14\n",
      "vandana.bhagat\n",
      "kartikay_singh_bais\n",
      "monikay0909\n",
      "420duggiboy\n",
      "_lord_of_mudzzz_\n",
      "jyotiranzan\n",
      "ks.zamanan\n",
      "i_see_first\n",
      "avni_1131\n",
      "farhanquaiser\n",
      "divvya_2003\n",
      "aditiiiii.b\n",
      "lineagrotte_\n",
      "aroramani31\n",
      "deepshikha.07\n",
      "fainat___\n",
      "rocio.schmutz\n",
      "ankur2471\n",
      "nan.diniiiiiiiiii\n",
      "ashwingupta16\n",
      "ashishkanwar91\n",
      "bhuvi_jay_nair\n",
      "la_estrella_de_rock\n",
      "amitjain1737\n",
      "nidhi.schawla\n",
      "jain.sonia_agg\n",
      "_garvit.goyal_\n",
      "baangaa25\n",
      "nitin7860\n",
      "lovelycouples.in\n",
      "ayush.tiwari.25\n",
      "melswanky\n",
      "the_saurabhverma\n",
      "kavishahuja\n",
      "sarabeccasingh\n",
      "yash_orthodontics\n",
      "laxayata_arya\n",
      "_neemadeshwal_\n",
      "nishant_bahri\n",
      "itsthesiya\n",
      "mkaur._24\n",
      "14vidit\n",
      "suruz_insta\n",
      "amal.prabhakaran\n",
      "thefrostupbakery\n",
      "neetu75.s\n",
      "shubham_8377\n",
      "kanoor_j\n",
      "u_sharma7\n",
      "___ooo____ooo_\n",
      "rashi29charaya\n",
      "tarotomens\n",
      "iitjee_1\n",
      "harmeet_multani30\n",
      "viraj.mhjn\n",
      "swatikreations\n",
      "arushikaushik08\n",
      "pusat8094\n",
      "gadgetboy_______\n",
      "shoryaa29\n",
      "_sheena.bhatia_\n",
      "kushagra.bajaj\n",
      "getgorgeouswithjoey\n",
      "delishacruez\n",
      "juhi_mushahary\n",
      "kritikrawat9_choclate_lover\n",
      "_onlygudvibess\n",
      "raj_patel34.34\n",
      "_anushkarajput17\n",
      "isssshhhhiiiiiii\n",
      "himanshu.juneja_\n",
      "_i_am_tani\n",
      "mohiniagrawal_\n"
     ]
    }
   ],
   "source": [
    "count = 0\n",
    "for i in driver.find_elements_by_xpath('//div[@class=\"PZuss\"]/li//a[@class = \"FPmhX notranslate  _0imsa \"]'):\n",
    "    if count == 500:\n",
    "        break\n",
    "    print(i.text)\n",
    "    count+=1\n",
    "driver.back()"
   ]
  },
  {
   "cell_type": "markdown",
   "metadata": {},
   "source": [
    "## Extracting first 500 usernames of \"foodtalkindia\""
   ]
  },
  {
   "cell_type": "code",
   "execution_count": 64,
   "metadata": {},
   "outputs": [
    {
     "name": "stderr",
     "output_type": "stream",
     "text": [
      "<ipython-input-64-4355e83d4cf9>:2: DeprecationWarning: find_element_by_* commands are deprecated. Please use find_element() instead\n",
      "  search_bar = driver.find_element_by_class_name('XTCLo')\n"
     ]
    }
   ],
   "source": [
    "keyword='foodtalkindia'\n",
    "search_bar = driver.find_element_by_class_name('XTCLo')\n",
    "search_bar.send_keys(keyword)\n",
    "foodtalkindia = WebDriverWait(driver, 10).until(EC.presence_of_element_located((By.CLASS_NAME,'-qQT3')))\n",
    "foodtalkindia.click()                                    "
   ]
  },
  {
   "cell_type": "code",
   "execution_count": 67,
   "metadata": {},
   "outputs": [],
   "source": [
    "followers_btn = WebDriverWait(driver, 10).until(EC.presence_of_element_located((By.XPATH,'//a[@class=\"-nal3 \"]')))\n",
    "followers_btn.click()\n",
    "time.sleep(2)"
   ]
  },
  {
   "cell_type": "markdown",
   "metadata": {},
   "source": [
    "## Scrolling the followers to get 500 followers"
   ]
  },
  {
   "cell_type": "code",
   "execution_count": 68,
   "metadata": {},
   "outputs": [
    {
     "name": "stderr",
     "output_type": "stream",
     "text": [
      "<ipython-input-68-0b9c976beaa6>:1: DeprecationWarning: find_elements_by_* commands are deprecated. Please use find_elements() instead\n",
      "  while len(driver.find_elements_by_xpath('//div[@class=\"PZuss\"]/li//a[@class = \"FPmhX notranslate  _0imsa \"]')) < 520:\n",
      "<ipython-input-68-0b9c976beaa6>:2: DeprecationWarning: find_elements_by_* commands are deprecated. Please use find_elements() instead\n",
      "  element = driver.find_elements_by_tag_name('li')[-1]\n"
     ]
    },
    {
     "name": "stdout",
     "output_type": "stream",
     "text": [
      "scrolled!!\n"
     ]
    }
   ],
   "source": [
    "while len(driver.find_elements_by_xpath('//div[@class=\"PZuss\"]/li//a[@class = \"FPmhX notranslate  _0imsa \"]')) < 520:\n",
    "    element = driver.find_elements_by_tag_name('li')[-1]\n",
    "    driver.execute_script(\"arguments[0].scrollIntoView();\", element);\n",
    "#     print(len(driver.find_elements_by_xpath('//div[@class=\"PZuss\"]/li//a[@class = \"FPmhX notranslate  _0imsa \"]')))\n",
    "    time.sleep(3)\n",
    "print('scrolled!!')"
   ]
  },
  {
   "cell_type": "markdown",
   "metadata": {},
   "source": [
    "## Storing the followers in a list "
   ]
  },
  {
   "cell_type": "code",
   "execution_count": 69,
   "metadata": {},
   "outputs": [
    {
     "name": "stderr",
     "output_type": "stream",
     "text": [
      "<ipython-input-69-cbc9bb02a915>:4: DeprecationWarning: find_elements_by_* commands are deprecated. Please use find_elements() instead\n",
      "  for i in driver.find_elements_by_xpath('//div[@class=\"PZuss\"]/li//a[@class = \"FPmhX notranslate  _0imsa \"]'):\n"
     ]
    }
   ],
   "source": [
    "food_followers = []\n",
    "# storing 500 followers in the array\n",
    "count = 0\n",
    "for i in driver.find_elements_by_xpath('//div[@class=\"PZuss\"]/li//a[@class = \"FPmhX notranslate  _0imsa \"]'):\n",
    "    if count == 500:\n",
    "        break\n",
    "    food_followers.append(i.text)\n",
    "    count+=1\n",
    "driver.back()"
   ]
  },
  {
   "cell_type": "code",
   "execution_count": 70,
   "metadata": {},
   "outputs": [
    {
     "data": {
      "text/plain": [
       "['official_boy_.2',\n",
       " 'shivamchoudhary1028_',\n",
       " 'balaji_143c',\n",
       " 'shab__dias',\n",
       " 'mepurushottam',\n",
       " 'fierce_kitchens',\n",
       " 'lets_get_lost_to_the_infinity',\n",
       " 'rs_jas',\n",
       " 'rupeshpatel2607',\n",
       " 'ayaan_khan_way',\n",
       " 'food__gawker',\n",
       " 'bakinglory',\n",
       " 'surindra_traders',\n",
       " 'helping_hand_charitable_trust',\n",
       " '_iamshikhar_',\n",
       " 'im_mohan_g_ysr',\n",
       " 'deva03',\n",
       " 'vasavapriyanshu56',\n",
       " 'mumbai_foodexplorers',\n",
       " 'veggie_n_wings',\n",
       " 'evamitrao3',\n",
       " 'dipamoni_1234',\n",
       " 'srinivaskorlapati369',\n",
       " 'chefpraveengupta',\n",
       " 'netkepakhare',\n",
       " 'pe.rrytheplatypus',\n",
       " 'payalkashyap73',\n",
       " '_ritikachauhan',\n",
       " 'the_sale_store99',\n",
       " 'alkakale1981',\n",
       " 'jotu961',\n",
       " 'patel.sivika',\n",
       " 'vickiepetersonfelipe',\n",
       " 'kalayani8883',\n",
       " 'ghungru_',\n",
       " 'aashikaaaa_.__',\n",
       " 'tari.mihir',\n",
       " 'akashskysofficial',\n",
       " 'anant.gupta1',\n",
       " 'aashwiin',\n",
       " 'raj______and____rani',\n",
       " 'moodysudi',\n",
       " 'monasterydoon',\n",
       " 'foodshooda',\n",
       " 'rekha_99_81',\n",
       " 'kaapa_16',\n",
       " 'hiteshvijwani',\n",
       " 'thesparklingdrugg_16',\n",
       " '2020ninaskitchen',\n",
       " 'delhigrubhub',\n",
       " 'neeraj.kt',\n",
       " '_.soorya.sunny',\n",
       " 'nishthanalwa',\n",
       " 'lolwah_real_estate',\n",
       " 'its_me_yogesh_official',\n",
       " 'preetshapuriya',\n",
       " 'food_picked',\n",
       " 'johnn_male_therapist',\n",
       " 'saladknot',\n",
       " 'yashrajbaravkar',\n",
       " 'deseekhana',\n",
       " 'felisemorales',\n",
       " 'food_everywhere_001',\n",
       " '_pallavikabaria26_',\n",
       " 'deepika.khullar',\n",
       " 'kanojia1877',\n",
       " 'shanthi.manne4',\n",
       " 'sakurakk4',\n",
       " 'bigfatfoodie1991',\n",
       " 'ansari__king_x05',\n",
       " 'crazy_the_akilan',\n",
       " 'jauotithekhauo',\n",
       " 'nucleus1417',\n",
       " 'krishnan.ramkr',\n",
       " 'hojoborolo9',\n",
       " '0224foodies',\n",
       " 'bg.28.00',\n",
       " 'tartsandtortillas',\n",
       " 'gt.9487',\n",
       " 'salil.mehra.39',\n",
       " 'islamulhaquebarbhuiya',\n",
       " 'talim7120',\n",
       " 'saritavishwakarma',\n",
       " 'manoj1309sharma',\n",
       " 'madhmangalya',\n",
       " 'food.ingooo',\n",
       " 'ad_ad_adnan_raj',\n",
       " 'love14.12',\n",
       " 'irfankhaannn',\n",
       " 'userdead884_',\n",
       " 'ashutoshdeshmukh23',\n",
       " 'launconventionalhaisha',\n",
       " 'sonamkr2780',\n",
       " 'bansal_srishti',\n",
       " '__raushni__singh__',\n",
       " 'rupalnayar',\n",
       " 'ouioui_love_',\n",
       " 'aviskaranepal',\n",
       " 'aditya_singhdz',\n",
       " 'organicgyaan',\n",
       " 'me_saurav__suman',\n",
       " 'pastawithnastha',\n",
       " 'roshniiiraii',\n",
       " 'nikk4267',\n",
       " '1_singers',\n",
       " 'kaushal_98_delhi',\n",
       " 'tanyamalhotra381',\n",
       " 'nandos.ind',\n",
       " 'indiahiddenstreetfood',\n",
       " 'abhi_the_infinite',\n",
       " 'desi.classics',\n",
       " '_.foodbelly._',\n",
       " '__.huzaifaaa',\n",
       " 'jignashamotisariya',\n",
       " 'punitkhanna17',\n",
       " 'indianobyprateekdilawari',\n",
       " 'prakash_bavari09',\n",
       " 'everythingedible_e2',\n",
       " 'legend_khasim_',\n",
       " 'finmanconsultants',\n",
       " 'shaurinj',\n",
       " 'meher_jaggi',\n",
       " 'fooddiarybypahi',\n",
       " 'surenmakhija',\n",
       " 'dr.ayeshafarooqui',\n",
       " 'priya_bajpai_',\n",
       " 'aishwaryasharma3',\n",
       " 'ya._.bai',\n",
       " 'alkareem_sre',\n",
       " 'abu.ubais',\n",
       " 'abhishekthakur6758',\n",
       " 'memesadda982',\n",
       " 'dipti.bajaj21',\n",
       " 'shona_betaa',\n",
       " 'ankit0112',\n",
       " 'kolkata_tasty_tales',\n",
       " 'lyfs__flavour',\n",
       " 'buy_the_dips',\n",
       " 'therealhimanshumishra',\n",
       " 'srutighosal78',\n",
       " 'meghna_tolstoy',\n",
       " 'nivedha_govardhan',\n",
       " 'pramila__selvakumar',\n",
       " 'riddleking2021',\n",
       " 'chandra.jain.714049',\n",
       " 'purneetkaur_',\n",
       " 'iam.sandhuu',\n",
       " 'scoops_peddapalli',\n",
       " '3424.jyoti',\n",
       " 'gaurvirajput',\n",
       " 'sami551571',\n",
       " 'noorrems',\n",
       " 'ritikkahuja',\n",
       " 'indian_food_corner1',\n",
       " 'pankhuri_11',\n",
       " 'anasbaba80',\n",
       " 'disha__joglekar',\n",
       " 'prajwal552',\n",
       " 'pranitaghodake8884',\n",
       " 'cookingwithishrat_28',\n",
       " 'sumithreddy_',\n",
       " 'roarstreetantiques',\n",
       " 'preetibansal2190',\n",
       " 'puneet_choudhary07',\n",
       " 'priyankavineet1',\n",
       " 'divine.world67',\n",
       " 'foodyandtraverlar',\n",
       " 'meals_and_maps',\n",
       " 'monu_khatri1',\n",
       " 'sayantanc96_',\n",
       " 'ich_bin_himogram',\n",
       " 'anil_yadav_ji95891',\n",
       " 'dipendra_yadav_ltp',\n",
       " 'suraj_811',\n",
       " 'aishwaryaasunil',\n",
       " 'dilsefoodie_abhi',\n",
       " 'sad_boy_1310',\n",
       " 'virajfanpage1',\n",
       " 'bad_man428',\n",
       " 'i_am_singh_12345',\n",
       " 'clumsymechie9',\n",
       " '__blissful.soul.__',\n",
       " 'periyannan_indian_',\n",
       " 'susheel_yadav_5060',\n",
       " 'arpita_cuddapah',\n",
       " 'crunchychilly',\n",
       " 'visheshjohar',\n",
       " 'ramshaxfti06',\n",
       " 'dhabaapunjabitheme.delhi',\n",
       " 'khan_saim_24',\n",
       " 'malika15handa',\n",
       " 'nirupama11',\n",
       " 'vruti_savla',\n",
       " '_sa.ta_',\n",
       " 'pocketfriendlybags',\n",
       " 'its_par_na',\n",
       " 'siddharthm01',\n",
       " '_miss_foody_',\n",
       " 'glocore',\n",
       " 'jucafe_esseltower',\n",
       " 'its_sarfraz_shah',\n",
       " 'deathwish.2',\n",
       " 'jaat__nehra',\n",
       " 'afshakhank848',\n",
       " 'dhurven845gmail.com4',\n",
       " 'prajwal8321',\n",
       " 'sonalisingh3452',\n",
       " 'explorer_blogspot',\n",
       " 'itzabhi1992',\n",
       " 'govind.thakor.12576',\n",
       " 'diptanshoe',\n",
       " 'karthik._.nair',\n",
       " 'official.zillaone',\n",
       " 'karanughade_77',\n",
       " 'neelam_cookingchannel',\n",
       " '_priti_saha_vi',\n",
       " 'megakore',\n",
       " 'tarundudhpachare',\n",
       " 'preet___.0',\n",
       " 'aromakaapi19',\n",
       " 'aquib_rixvi',\n",
       " 'sau.sagechicken',\n",
       " 'foodtechnewshub',\n",
       " 'ruhiarora93',\n",
       " 'prerona_das2006',\n",
       " 'dubesrishti',\n",
       " 'mustardcafegoa',\n",
       " 'babashrisuryawanshi',\n",
       " 'tales_of_places_',\n",
       " 'nikhitha_vn',\n",
       " '_doctorsrishti',\n",
       " 'cakesbay.in',\n",
       " 'yadavyogi23',\n",
       " 'anurags95',\n",
       " 'its_rajveer_yadav_007',\n",
       " '__gow_diary',\n",
       " 'vanshikanagpal29',\n",
       " 'janvisuri_1',\n",
       " '_kam_25_x_x',\n",
       " 'ashimabajaj6774',\n",
       " 'alim.pathan0420',\n",
       " 'samarthaggarwal93',\n",
       " 'cookingbeauty_mi',\n",
       " 'ramesh_desai7376',\n",
       " 'olivia.arora',\n",
       " 'nandini_k.850',\n",
       " 'shreshthn',\n",
       " 'bigmugsindia',\n",
       " 'okayyyyfalak',\n",
       " 'laughingmunda',\n",
       " 'rounak_wildflower',\n",
       " 'smolina_fasolina',\n",
       " 'karangugnani_',\n",
       " 'khyati_tyagi',\n",
       " 'mr.chakraborty999',\n",
       " 'stocktrader_jitendra',\n",
       " 'anuvind_singh19',\n",
       " 'shivani2496',\n",
       " 'mohit_teware_om',\n",
       " 'harshitasharma021',\n",
       " 'imroshn',\n",
       " 'pratibha.sonawane.9619',\n",
       " 'udaipurvlogger',\n",
       " '_cookinmyway',\n",
       " 'i.am.kakarot',\n",
       " 'jeet2029',\n",
       " 'neyasha_07',\n",
       " 'atalmart',\n",
       " 'kaura_akshay',\n",
       " 'pizzatopastry',\n",
       " 'vaibhavbajpaiforever',\n",
       " 'snoop.dog_9',\n",
       " 'beryricksy',\n",
       " 'monstersince95',\n",
       " 'sharkograph',\n",
       " 'sunita55saxena',\n",
       " 'saurav.kalra',\n",
       " 'shoppersxdelight',\n",
       " '_kavitaaa__',\n",
       " 'rishabh432',\n",
       " 'kiran_kiru055',\n",
       " 'pursnanikhushboo',\n",
       " 'sehej_oberoi',\n",
       " 'kanvar_bamrah',\n",
       " 'manshi_pandey31',\n",
       " 'arjun_sharma10',\n",
       " 'anandfashionfitnesstravel',\n",
       " 's_aloni_mahanwal_',\n",
       " 'its_ok_arx',\n",
       " 'qwik.fuels',\n",
       " 'kshitij.sahani14',\n",
       " 'harishnak',\n",
       " 'paras_aggarwal66',\n",
       " 'a_y_u_s_h__s__i__n__g__h',\n",
       " 'jhilmil_s',\n",
       " 'arjun785',\n",
       " 'amrita0181',\n",
       " 'akanksha301',\n",
       " 'shri_vaish',\n",
       " 'rajgarg_iu',\n",
       " 'vinodavi296',\n",
       " 'jatinvermani_music',\n",
       " 'kashyapabhishek7',\n",
       " 'ps.4444puneetsingh',\n",
       " '_mplusm',\n",
       " 'karma_the_planner',\n",
       " 'nikitakalra95',\n",
       " 'rishismile63',\n",
       " 'misalpao._',\n",
       " '_ankitsahrawat',\n",
       " 'popular_hospitality',\n",
       " 'myfoodspace1',\n",
       " 'golden_cafe_guest_house',\n",
       " 'shukla.938',\n",
       " 'fast_foody_surat',\n",
       " 'sanskrutipatil7088',\n",
       " '____priyanshi',\n",
       " 'awsme_alex',\n",
       " '41.kashiwa',\n",
       " 'thedamagedd',\n",
       " 'reshma.pherwani',\n",
       " 'abdullaahsaquib',\n",
       " 'vrindakapoor',\n",
       " 'plates_and_faces',\n",
       " 'arun26kamboj',\n",
       " 'whour4130d',\n",
       " 'dises.h9',\n",
       " 'mygrubstories',\n",
       " 'lucky_007790',\n",
       " 'agarwal.sanch',\n",
       " 'i_am_jujusharma',\n",
       " 'royalfalcon56',\n",
       " 'apdemic',\n",
       " 'sthamu',\n",
       " 'itskajal233',\n",
       " 'stressendurlife',\n",
       " 'foodie_al247',\n",
       " 'badnoy26',\n",
       " 'akshay.sawhney',\n",
       " 'teju_tayade_',\n",
       " 'fakeidcheck_',\n",
       " 'nairshital',\n",
       " 'akshay_gade_88',\n",
       " 'radhernot',\n",
       " 'tejaswichhatwal',\n",
       " 'its_queen_umra',\n",
       " 'ghumaan_sukhi',\n",
       " 'prabhatsingh.01994',\n",
       " 'gautami_1976',\n",
       " 'jitesh0487',\n",
       " 'appyfizz99999',\n",
       " 'nutri_aveda',\n",
       " 'karwarya',\n",
       " 's_f_habib',\n",
       " 'kuma.rredd',\n",
       " 'sanjaykumarsanjay47854',\n",
       " 'rahimmolla8459',\n",
       " 'bhukhad_billi',\n",
       " 'shohalhakeem',\n",
       " 'peace_soul_15._',\n",
       " 'themomtag',\n",
       " 'shipra.gu',\n",
       " 'magizhzarigai',\n",
       " 'lb._123',\n",
       " 'snackamor',\n",
       " 'myy.miniworld',\n",
       " 'rohit.nooguri',\n",
       " 'shubham512gupta',\n",
       " 'katy.ebisu',\n",
       " 'ajay_gurjar_307',\n",
       " 'thecrankyexplorers',\n",
       " 'vanshikarandev',\n",
       " 'itsudhi',\n",
       " 'joamba',\n",
       " 'gustav__js',\n",
       " 'shronitha_thunga',\n",
       " 'ashishramnani',\n",
       " 'jatin917',\n",
       " 'rohit_singhpo',\n",
       " 'shreya_af',\n",
       " '__eat__happy__',\n",
       " 'rehmania546',\n",
       " 'sangita_ray_7',\n",
       " 'kotaknotthebank',\n",
       " 'suthar.sunil94',\n",
       " 'yashagrawal4097',\n",
       " 'saagarnayyar',\n",
       " 'charu.batra31',\n",
       " 'ankita_goomer',\n",
       " 'hejgskjshxh73838',\n",
       " 'lammiluk',\n",
       " 'realchanmeetkaursethi',\n",
       " '_krave.in_',\n",
       " 'bamideepika',\n",
       " 'seen.behindthescene',\n",
       " 'plates_of_hometown',\n",
       " 'farhnkazi',\n",
       " 'dcosta_naveen',\n",
       " 'chefbychanceindia',\n",
       " 'd_a_n_i_s_h_191141',\n",
       " 'bhagyeshbehere',\n",
       " 'hemskitchen_',\n",
       " 'shades_of_gl',\n",
       " 'nidhisharma7538',\n",
       " 'khushi_cakesnbakes',\n",
       " 'sonu__3532',\n",
       " 'sominder_singh',\n",
       " 'shinderakesh',\n",
       " 'menonshashank',\n",
       " 'manikandan.nandagopal.1',\n",
       " 'prataphood',\n",
       " 'siddharthagarwal23',\n",
       " 'vandanaarora12',\n",
       " 'mr__k_a_r_a_n__2005',\n",
       " 'yehmerasafar',\n",
       " 'whatisinthenames',\n",
       " 'armaan_4742',\n",
       " 'ovjuicerynfood',\n",
       " 'annu.singh2003',\n",
       " 'dr_vivek',\n",
       " 'wholesome.eatsome',\n",
       " 'kuljeetsingh0987',\n",
       " 'feast_it_doctorway',\n",
       " '__chefankit01',\n",
       " '__asmitaaaa__',\n",
       " 'the_millennial_cakery',\n",
       " 'kumar._.satyam',\n",
       " 'naches2130',\n",
       " 'roshan_nichani',\n",
       " 'foods_always',\n",
       " 'devanandmonica',\n",
       " 'mr.4050_',\n",
       " 'travelandglam786',\n",
       " 'rehannaeemawan',\n",
       " 'sliceoflife_foodstories',\n",
       " 'cooking7689',\n",
       " 'loc_alphotos',\n",
       " 'foods_n_taste',\n",
       " 'baxter__o',\n",
       " 'snehapradhan13',\n",
       " 'cahya_wngtru',\n",
       " 'decafseshwithk',\n",
       " 'the.leftovers_08',\n",
       " 'parmarhansika',\n",
       " 'apurvisheth',\n",
       " 'subhajit.bhattacharyya.10',\n",
       " 'kourmgoa',\n",
       " 'dhaval.joshi.1988',\n",
       " 'walla.habibi123',\n",
       " 'kattasasikiran.7009',\n",
       " 'ketocadous',\n",
       " 'priti_routh0',\n",
       " 'siddhartha_bajpai_',\n",
       " 'jerry075414',\n",
       " 'fit_squad_candy',\n",
       " 'quickfoood_',\n",
       " 'mushqofficial',\n",
       " 'akiskitchen0',\n",
       " '__fangurlgossipgirl___',\n",
       " 'braviahotel.ajmer',\n",
       " 'fried_grilled_barbecue',\n",
       " 'saa.chu',\n",
       " 'from.scratch.meals',\n",
       " 'palak.sharmaa',\n",
       " 'jaya_catering1',\n",
       " 'gopaldhoot012',\n",
       " 'yada.vji9921',\n",
       " '__1m.l0st__',\n",
       " 'carol_oranchuk',\n",
       " 'gunegaar97',\n",
       " 'alankita_01',\n",
       " 'rachnathakur811',\n",
       " 'aashna.namle',\n",
       " 'arjundhalll',\n",
       " 'iamharpartapsinghsandhu',\n",
       " 'nameismohit',\n",
       " 'mansaf_thefriedlove',\n",
       " 'swamybandla9999',\n",
       " 'honeypandole',\n",
       " 'iamshraddhak',\n",
       " 'ipreetikagoyal',\n",
       " '_k_a_j_collection',\n",
       " 'selena.1774',\n",
       " 'madhavi._.512',\n",
       " 'sarmisthaajati',\n",
       " 'prowine_in',\n",
       " 'lightup_98',\n",
       " 'leal.dean',\n",
       " 'babli_kohli123',\n",
       " '_.chris.jb._',\n",
       " 'pooja__meena____',\n",
       " 'bellealvin1',\n",
       " 'ratanu_boruah',\n",
       " 'smokybites_',\n",
       " 'debasmita.deka',\n",
       " 'smita_deka',\n",
       " 'unnatid88',\n",
       " 'meghanivimal',\n",
       " 'shivchoudhary',\n",
       " 'vaitheeswaran222']"
      ]
     },
     "execution_count": 70,
     "metadata": {},
     "output_type": "execute_result"
    }
   ],
   "source": [
    "food_followers"
   ]
  },
  {
   "cell_type": "markdown",
   "metadata": {},
   "source": [
    "## Opening my/user profile"
   ]
  },
  {
   "cell_type": "code",
   "execution_count": 71,
   "metadata": {},
   "outputs": [],
   "source": [
    "profile_btn = WebDriverWait(driver, 10).until(EC.presence_of_element_located((By.XPATH, '//span[@class=\"_2dbep qNELH\"]')))\n",
    "profile_btn.click()\n",
    "profile = WebDriverWait(driver, 10).until(EC.presence_of_element_located((By.CLASS_NAME, '-qQT3')))\n",
    "profile.click()\n",
    "time.sleep(1)"
   ]
  },
  {
   "cell_type": "markdown",
   "metadata": {},
   "source": [
    "## Getting followers count"
   ]
  },
  {
   "cell_type": "code",
   "execution_count": 73,
   "metadata": {},
   "outputs": [
    {
     "name": "stdout",
     "output_type": "stream",
     "text": [
      "37\n"
     ]
    },
    {
     "name": "stderr",
     "output_type": "stream",
     "text": [
      "<ipython-input-73-4448eaaae3ed>:2: DeprecationWarning: find_element_by_* commands are deprecated. Please use find_element() instead\n",
      "  followers = driver.find_element_by_partial_link_text(' followers')\n"
     ]
    }
   ],
   "source": [
    "driver.implicitly_wait(5)\n",
    "followers = driver.find_element_by_partial_link_text(' followers')\n",
    "followers_count=\"\"\n",
    "for i in followers.text:\n",
    "    if i >= '0' and i<= '9':\n",
    "        followers_count += i\n",
    "    else:\n",
    "        break\n",
    "followers_count = int(followers_count)\n",
    "print(followers_count)"
   ]
  },
  {
   "cell_type": "code",
   "execution_count": 74,
   "metadata": {},
   "outputs": [],
   "source": [
    "followers_btn = WebDriverWait(driver, 10).until(EC.presence_of_element_located((By.XPATH,'//a[@class=\"-nal3 \"]')))\n",
    "followers_btn.click()\n",
    "time.sleep(2)"
   ]
  },
  {
   "cell_type": "markdown",
   "metadata": {},
   "source": [
    "## Scrolling followers list to get all followers"
   ]
  },
  {
   "cell_type": "code",
   "execution_count": 75,
   "metadata": {},
   "outputs": [
    {
     "name": "stderr",
     "output_type": "stream",
     "text": [
      "<ipython-input-75-11615db201b0>:1: DeprecationWarning: find_elements_by_* commands are deprecated. Please use find_elements() instead\n",
      "  while len(driver.find_elements_by_xpath('//div[@class=\"PZuss\"]/li//a[@class = \"FPmhX notranslate  _0imsa \"]')) <= followers_count:\n",
      "<ipython-input-75-11615db201b0>:2: DeprecationWarning: find_elements_by_* commands are deprecated. Please use find_elements() instead\n",
      "  if len(driver.find_elements_by_xpath('//div[@class=\"PZuss\"]/li//a[@class = \"FPmhX notranslate  _0imsa \"]')) == followers_count:\n",
      "<ipython-input-75-11615db201b0>:4: DeprecationWarning: find_elements_by_* commands are deprecated. Please use find_elements() instead\n",
      "  element = driver.find_elements_by_tag_name('li')[-1]\n"
     ]
    },
    {
     "name": "stdout",
     "output_type": "stream",
     "text": [
      "Scrolled\n"
     ]
    }
   ],
   "source": [
    "while len(driver.find_elements_by_xpath('//div[@class=\"PZuss\"]/li//a[@class = \"FPmhX notranslate  _0imsa \"]')) <= followers_count:\n",
    "    if len(driver.find_elements_by_xpath('//div[@class=\"PZuss\"]/li//a[@class = \"FPmhX notranslate  _0imsa \"]')) == followers_count:\n",
    "        break\n",
    "    element = driver.find_elements_by_tag_name('li')[-1]\n",
    "    driver.execute_script(\"arguments[0].scrollIntoView();\", element);\n",
    "#     print(len(driver.find_elements_by_xpath('//div[@class=\"PZuss\"]/li//a[@class = \"FPmhX notranslate  _0imsa \"]')))\n",
    "    time.sleep(3)\n",
    "print(\"Scrolled\")"
   ]
  },
  {
   "cell_type": "markdown",
   "metadata": {},
   "source": [
    "## Storing the followers in a list "
   ]
  },
  {
   "cell_type": "code",
   "execution_count": 76,
   "metadata": {},
   "outputs": [
    {
     "name": "stderr",
     "output_type": "stream",
     "text": [
      "<ipython-input-76-64e0d4895dc5>:2: DeprecationWarning: find_elements_by_* commands are deprecated. Please use find_elements() instead\n",
      "  for i in driver.find_elements_by_xpath('//div[@class=\"PZuss\"]/li//a[@class = \"FPmhX notranslate  _0imsa \"]'):\n"
     ]
    }
   ],
   "source": [
    "my_followers = []\n",
    "for i in driver.find_elements_by_xpath('//div[@class=\"PZuss\"]/li//a[@class = \"FPmhX notranslate  _0imsa \"]'):\n",
    "    my_followers.append(i.text)\n",
    "driver.back()"
   ]
  },
  {
   "cell_type": "code",
   "execution_count": 77,
   "metadata": {},
   "outputs": [
    {
     "data": {
      "text/plain": [
       "['sadagd.mir',\n",
       " 'gulamdeen1',\n",
       " '5901_nikhil',\n",
       " 'kakukaku271',\n",
       " '777.kanhaiyanishad',\n",
       " 'mdshabajalam_786',\n",
       " 'mr_siddharth_2.0',\n",
       " 'sewakseawk',\n",
       " 'shantoshimager',\n",
       " 'lama.lee.946',\n",
       " 'azaimsiddiqui',\n",
       " 'imaran8247',\n",
       " 'hussainmd7025',\n",
       " 'rehanalam9825',\n",
       " 'bagriapremaram',\n",
       " 'baezcarlitoshotmai',\n",
       " 'hansarj_rathor_',\n",
       " 'yadav888y',\n",
       " 'ppuraamjoyaa',\n",
       " '25bansh',\n",
       " 'kalaram610',\n",
       " 'inayat8140',\n",
       " 'chintu863728',\n",
       " 'mdaadilumar',\n",
       " 'a_q_r__official',\n",
       " 'anita.dutta.9003555',\n",
       " 'nicolaszenatty',\n",
       " 'sahil7641174',\n",
       " 'j_a_g_d_e_v_',\n",
       " '88supriyabag',\n",
       " 'suman8620kumar',\n",
       " 'mr_raja_kumar_mandal',\n",
       " 'shailendrababa38',\n",
       " 'pooja_423665',\n",
       " 'rakesh_31478',\n",
       " 'ramsahayya',\n",
       " 'go_organic8']"
      ]
     },
     "execution_count": 77,
     "metadata": {},
     "output_type": "execute_result"
    }
   ],
   "source": [
    "my_followers"
   ]
  },
  {
   "cell_type": "markdown",
   "metadata": {},
   "source": [
    "## Getting followers count"
   ]
  },
  {
   "cell_type": "code",
   "execution_count": 78,
   "metadata": {},
   "outputs": [
    {
     "name": "stderr",
     "output_type": "stream",
     "text": [
      "<ipython-input-78-397149237072>:2: DeprecationWarning: find_element_by_* commands are deprecated. Please use find_element() instead\n",
      "  following = driver.find_element_by_partial_link_text(' following')\n"
     ]
    }
   ],
   "source": [
    "driver.implicitly_wait(3)\n",
    "following = driver.find_element_by_partial_link_text(' following')"
   ]
  },
  {
   "cell_type": "code",
   "execution_count": 79,
   "metadata": {},
   "outputs": [
    {
     "data": {
      "text/plain": [
       "22"
      ]
     },
     "execution_count": 79,
     "metadata": {},
     "output_type": "execute_result"
    }
   ],
   "source": [
    "following_count=\"\"\n",
    "for i in following.text:\n",
    "    if i >= '0' and i<= '9':\n",
    "        following_count += i\n",
    "    else:\n",
    "        break\n",
    "following_count = int(following_count)\n",
    "following_count"
   ]
  },
  {
   "cell_type": "code",
   "execution_count": 80,
   "metadata": {},
   "outputs": [
    {
     "name": "stderr",
     "output_type": "stream",
     "text": [
      "<ipython-input-80-63a5e09b50c8>:1: DeprecationWarning: find_element_by_* commands are deprecated. Please use find_element() instead\n",
      "  following = driver.find_element_by_partial_link_text(' following')\n"
     ]
    }
   ],
   "source": [
    "following = driver.find_element_by_partial_link_text(' following')\n",
    "following.click()"
   ]
  },
  {
   "cell_type": "markdown",
   "metadata": {},
   "source": [
    "## Scrolling followers list to get all followers"
   ]
  },
  {
   "cell_type": "code",
   "execution_count": 81,
   "metadata": {},
   "outputs": [
    {
     "name": "stderr",
     "output_type": "stream",
     "text": [
      "<ipython-input-81-8951e44caacd>:1: DeprecationWarning: find_elements_by_* commands are deprecated. Please use find_elements() instead\n",
      "  while len(driver.find_elements_by_xpath('//div[@class=\"PZuss\"]/li//a[@class = \"FPmhX notranslate  _0imsa \"]')) <= following_count:\n",
      "<ipython-input-81-8951e44caacd>:2: DeprecationWarning: find_elements_by_* commands are deprecated. Please use find_elements() instead\n",
      "  if len(driver.find_elements_by_xpath('//div[@class=\"PZuss\"]/li//a[@class = \"FPmhX notranslate  _0imsa \"]')) == following_count:\n",
      "<ipython-input-81-8951e44caacd>:4: DeprecationWarning: find_elements_by_* commands are deprecated. Please use find_elements() instead\n",
      "  element = driver.find_elements_by_tag_name('li')[-1]\n"
     ]
    },
    {
     "name": "stdout",
     "output_type": "stream",
     "text": [
      "Scrolled\n"
     ]
    }
   ],
   "source": [
    "while len(driver.find_elements_by_xpath('//div[@class=\"PZuss\"]/li//a[@class = \"FPmhX notranslate  _0imsa \"]')) <= following_count:\n",
    "    if len(driver.find_elements_by_xpath('//div[@class=\"PZuss\"]/li//a[@class = \"FPmhX notranslate  _0imsa \"]')) == following_count:\n",
    "        break\n",
    "    element = driver.find_elements_by_tag_name('li')[-1]\n",
    "    driver.execute_script(\"arguments[0].scrollIntoView();\", element);\n",
    "#     print(len(driver.find_elements_by_xpath('//div[@class=\"PZuss\"]/li//a[@class = \"FPmhX notranslate  _0imsa \"]')))\n",
    "    time.sleep(3)\n",
    "print(\"Scrolled\")"
   ]
  },
  {
   "cell_type": "markdown",
   "metadata": {},
   "source": [
    "## Storing the following in a list "
   ]
  },
  {
   "cell_type": "code",
   "execution_count": 82,
   "metadata": {},
   "outputs": [
    {
     "name": "stderr",
     "output_type": "stream",
     "text": [
      "<ipython-input-82-4d4353227ef3>:2: DeprecationWarning: find_elements_by_* commands are deprecated. Please use find_elements() instead\n",
      "  for i in driver.find_elements_by_xpath('//div[@class=\"PZuss\"]/li//a[@class = \"FPmhX notranslate  _0imsa \"]'):\n"
     ]
    }
   ],
   "source": [
    "my_following = []\n",
    "for i in driver.find_elements_by_xpath('//div[@class=\"PZuss\"]/li//a[@class = \"FPmhX notranslate  _0imsa \"]'):\n",
    "    my_following.append(i.text)\n",
    "#     print(i.text)\n",
    "driver.back()"
   ]
  },
  {
   "cell_type": "markdown",
   "metadata": {},
   "source": [
    "## All the followers of “foodtalkindia” that you are following but those who don’t follow you"
   ]
  },
  {
   "cell_type": "code",
   "execution_count": 83,
   "metadata": {},
   "outputs": [
    {
     "name": "stdout",
     "output_type": "stream",
     "text": [
      "NO SUCH FOLLOWERS!!\n"
     ]
    }
   ],
   "source": [
    "my_following_set = set(my_following)\n",
    "food_followers_set = set(food_followers)\n",
    "my_followers_set = set(my_followers)\n",
    "\n",
    "# I did this by extracting and saving a list of all the user's followers(myfollowers) and those who are \n",
    "# followed by the user(following). and getting the answer by using \n",
    "# \"(my_following_set & food_followers_set) - ((my_following_set & food_followers_set)& my_followers_set)\"\n",
    "\n",
    "if (my_following_set & food_followers_set):\n",
    "    print((my_following_set & food_followers_set) - ((my_following_set & food_followers_set)& my_followers_set))\n",
    "else:\n",
    "    print(\"NO SUCH FOLLOWERS!!\")"
   ]
  },
  {
   "cell_type": "markdown",
   "metadata": {},
   "source": [
    "## Status of story of Coding Ninjas"
   ]
  },
  {
   "cell_type": "code",
   "execution_count": 87,
   "metadata": {},
   "outputs": [
    {
     "name": "stderr",
     "output_type": "stream",
     "text": [
      "<ipython-input-87-3921462bfc62>:1: DeprecationWarning: find_element_by_* commands are deprecated. Please use find_element() instead\n",
      "  search_bar = driver.find_element_by_class_name('XTCLo')\n"
     ]
    }
   ],
   "source": [
    "search_bar = driver.find_element_by_class_name('XTCLo')\n",
    "username='coding.ninjas'\n",
    "search_bar.send_keys(username)                                 "
   ]
  },
  {
   "cell_type": "code",
   "execution_count": 93,
   "metadata": {},
   "outputs": [
    {
     "name": "stdout",
     "output_type": "stream",
     "text": [
      "The user has no story!\n"
     ]
    }
   ],
   "source": [
    "# when the story is live the height is > when the story is viewed\n",
    "# so using this to check the status\n",
    "try:\n",
    "    if int(driver.find_element_by_xpath('//div[@class=\"fuqBx \"]/div/a/div/div/div[contains(@class, \"h5uC0\")]/canvas').get_attribute('height'))==108:\n",
    "        print('You have not seen the story yet! The story will be shown to you now. check out the driver window')\n",
    "        driver.find_element_by_xpath('//div[@class=\"RR-M- h5uC0\"]').click()\n",
    "    elif int(driver.find_element_by_xpath('//div[@class=\"fuqBx \"]/div/a/div/div/div[contains(@class, \"h5uC0\")]/canvas').get_attribute('height'))==104:\n",
    "        print('You have already seen the story!')\n",
    "except NoSuchElementException:\n",
    "print('The user has no story!')"
   ]
  },
  {
   "cell_type": "markdown",
   "metadata": {},
   "source": [
    "## Quitting the driver"
   ]
  },
  {
   "cell_type": "code",
   "execution_count": 89,
   "metadata": {},
   "outputs": [
    {
     "name": "stdout",
     "output_type": "stream",
     "text": [
      "THE END!!\n"
     ]
    }
   ],
   "source": [
    "print('THE END!!')\n",
    "driver.quit()"
   ]
  }
 ],
 "metadata": {
  "kernelspec": {
   "display_name": "Python 3",
   "language": "python",
   "name": "python3"
  },
  "language_info": {
   "codemirror_mode": {
    "name": "ipython",
    "version": 3
   },
   "file_extension": ".py",
   "mimetype": "text/x-python",
   "name": "python",
   "nbconvert_exporter": "python",
   "pygments_lexer": "ipython3",
   "version": "3.9.0"
  }
 },
 "nbformat": 4,
 "nbformat_minor": 5
}
